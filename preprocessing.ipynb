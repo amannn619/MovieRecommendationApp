{
 "cells": [
  {
   "cell_type": "code",
   "execution_count": 31,
   "id": "ee4fd68a-c7b9-49fe-a4f7-8b7608de47bb",
   "metadata": {},
   "outputs": [],
   "source": [
    "import pandas as pd\n",
    "import matplotlib.pyplot as plt"
   ]
  },
  {
   "cell_type": "code",
   "execution_count": 32,
   "id": "5ea032ca-2c79-49d4-a173-fbbc9018488f",
   "metadata": {},
   "outputs": [],
   "source": [
    "movies = pd.read_csv(\"movieData/movies.csv\")"
   ]
  },
  {
   "cell_type": "code",
   "execution_count": 33,
   "id": "1082b789-4ede-4034-bde2-0b6ac1198512",
   "metadata": {},
   "outputs": [
    {
     "data": {
      "text/html": [
       "<div>\n",
       "<style scoped>\n",
       "    .dataframe tbody tr th:only-of-type {\n",
       "        vertical-align: middle;\n",
       "    }\n",
       "\n",
       "    .dataframe tbody tr th {\n",
       "        vertical-align: top;\n",
       "    }\n",
       "\n",
       "    .dataframe thead th {\n",
       "        text-align: right;\n",
       "    }\n",
       "</style>\n",
       "<table border=\"1\" class=\"dataframe\">\n",
       "  <thead>\n",
       "    <tr style=\"text-align: right;\">\n",
       "      <th></th>\n",
       "      <th>id</th>\n",
       "      <th>title</th>\n",
       "      <th>genres</th>\n",
       "      <th>original_language</th>\n",
       "      <th>overview</th>\n",
       "      <th>popularity</th>\n",
       "      <th>production_companies</th>\n",
       "      <th>release_date</th>\n",
       "      <th>budget</th>\n",
       "      <th>revenue</th>\n",
       "      <th>runtime</th>\n",
       "      <th>status</th>\n",
       "      <th>tagline</th>\n",
       "      <th>vote_average</th>\n",
       "      <th>vote_count</th>\n",
       "      <th>credits</th>\n",
       "      <th>keywords</th>\n",
       "      <th>poster_path</th>\n",
       "      <th>backdrop_path</th>\n",
       "      <th>recommendations</th>\n",
       "    </tr>\n",
       "  </thead>\n",
       "  <tbody>\n",
       "    <tr>\n",
       "      <th>0</th>\n",
       "      <td>758323</td>\n",
       "      <td>The Pope's Exorcist</td>\n",
       "      <td>Horror-Mystery-Thriller</td>\n",
       "      <td>en</td>\n",
       "      <td>Father Gabriele Amorth Chief Exorcist of the V...</td>\n",
       "      <td>5953.227</td>\n",
       "      <td>Screen Gems-2.0 Entertainment-Jesus &amp; Mary-Wor...</td>\n",
       "      <td>2023-04-05</td>\n",
       "      <td>18000000.0</td>\n",
       "      <td>6.567582e+07</td>\n",
       "      <td>103.0</td>\n",
       "      <td>Released</td>\n",
       "      <td>Inspired by the actual files of Father Gabriel...</td>\n",
       "      <td>7.433</td>\n",
       "      <td>545.0</td>\n",
       "      <td>Russell Crowe-Daniel Zovatto-Alex Essoe-Franco...</td>\n",
       "      <td>spain-rome italy-vatican-pope-pig-possession-c...</td>\n",
       "      <td>/9JBEPLTPSm0d1mbEcLxULjJq9Eh.jpg</td>\n",
       "      <td>/hiHGRbyTcbZoLsYYkO4QiCLYe34.jpg</td>\n",
       "      <td>713704-296271-502356-1076605-1084225-1008005-9...</td>\n",
       "    </tr>\n",
       "    <tr>\n",
       "      <th>1</th>\n",
       "      <td>667538</td>\n",
       "      <td>Transformers: Rise of the Beasts</td>\n",
       "      <td>Action-Adventure-Science Fiction</td>\n",
       "      <td>en</td>\n",
       "      <td>When a new threat capable of destroying the en...</td>\n",
       "      <td>5409.104</td>\n",
       "      <td>Skydance-Paramount-di Bonaventura Pictures-Bay...</td>\n",
       "      <td>2023-06-06</td>\n",
       "      <td>200000000.0</td>\n",
       "      <td>4.070455e+08</td>\n",
       "      <td>127.0</td>\n",
       "      <td>Released</td>\n",
       "      <td>Unite or fall.</td>\n",
       "      <td>7.340</td>\n",
       "      <td>1007.0</td>\n",
       "      <td>Anthony Ramos-Dominique Fishback-Luna Lauren V...</td>\n",
       "      <td>peru-alien-end of the world-based on cartoon-b...</td>\n",
       "      <td>/gPbM0MK8CP8A174rmUwGsADNYKD.jpg</td>\n",
       "      <td>/woJbg7ZqidhpvqFGGMRhWQNoxwa.jpg</td>\n",
       "      <td>496450-569094-298618-385687-877100-598331-4628...</td>\n",
       "    </tr>\n",
       "    <tr>\n",
       "      <th>2</th>\n",
       "      <td>640146</td>\n",
       "      <td>Ant-Man and the Wasp: Quantumania</td>\n",
       "      <td>Action-Adventure-Science Fiction</td>\n",
       "      <td>en</td>\n",
       "      <td>Super-Hero partners Scott Lang and Hope van Dy...</td>\n",
       "      <td>4425.387</td>\n",
       "      <td>Marvel Studios-Kevin Feige Productions</td>\n",
       "      <td>2023-02-15</td>\n",
       "      <td>200000000.0</td>\n",
       "      <td>4.757662e+08</td>\n",
       "      <td>125.0</td>\n",
       "      <td>Released</td>\n",
       "      <td>Witness the beginning of a new dynasty.</td>\n",
       "      <td>6.507</td>\n",
       "      <td>2811.0</td>\n",
       "      <td>Paul Rudd-Evangeline Lilly-Jonathan Majors-Kat...</td>\n",
       "      <td>hero-ant-sequel-superhero-based on comic-famil...</td>\n",
       "      <td>/qnqGbB22YJ7dSs4o6M7exTpNxPz.jpg</td>\n",
       "      <td>/m8JTwHFwX7I7JY5fPe4SjqejWag.jpg</td>\n",
       "      <td>823999-676841-868759-734048-267805-965839-1033...</td>\n",
       "    </tr>\n",
       "    <tr>\n",
       "      <th>3</th>\n",
       "      <td>677179</td>\n",
       "      <td>Creed III</td>\n",
       "      <td>Drama-Action</td>\n",
       "      <td>en</td>\n",
       "      <td>After dominating the boxing world Adonis Creed...</td>\n",
       "      <td>3994.342</td>\n",
       "      <td>Metro-Goldwyn-Mayer-Proximity Media-Balboa Pro...</td>\n",
       "      <td>2023-03-01</td>\n",
       "      <td>75000000.0</td>\n",
       "      <td>2.690000e+08</td>\n",
       "      <td>116.0</td>\n",
       "      <td>Released</td>\n",
       "      <td>You can't run from your past.</td>\n",
       "      <td>7.262</td>\n",
       "      <td>1129.0</td>\n",
       "      <td>Michael B. Jordan-Tessa Thompson-Jonathan Majo...</td>\n",
       "      <td>philadelphia pennsylvania-husband wife relatio...</td>\n",
       "      <td>/cvsXj3I9Q2iyyIo95AecSd1tad7.jpg</td>\n",
       "      <td>/5i6SjyDbDWqyun8klUuCxrlFbyw.jpg</td>\n",
       "      <td>965839-267805-943822-842942-1035806-823999-107...</td>\n",
       "    </tr>\n",
       "    <tr>\n",
       "      <th>4</th>\n",
       "      <td>502356</td>\n",
       "      <td>The Super Mario Bros. Movie</td>\n",
       "      <td>Animation-Family-Adventure-Fantasy-Comedy</td>\n",
       "      <td>en</td>\n",
       "      <td>While working underground to fix a water main ...</td>\n",
       "      <td>3859.926</td>\n",
       "      <td>Universal Pictures-Illumination-Nintendo</td>\n",
       "      <td>2023-04-05</td>\n",
       "      <td>100000000.0</td>\n",
       "      <td>1.278767e+09</td>\n",
       "      <td>92.0</td>\n",
       "      <td>Released</td>\n",
       "      <td>NaN</td>\n",
       "      <td>7.764</td>\n",
       "      <td>4042.0</td>\n",
       "      <td>Chris Pratt-Charlie Day-Anya Taylor-Joy-Jack B...</td>\n",
       "      <td>video game-gorilla-plumber-magic mushroom-anth...</td>\n",
       "      <td>/qNBAXBIQlnOThrVvA6mA2B5ggV6.jpg</td>\n",
       "      <td>/2klQ1z1fcHGgQPevbEQdkCnzyuS.jpg</td>\n",
       "      <td>713704-385687-640146-60898-758323-1008005-4935...</td>\n",
       "    </tr>\n",
       "    <tr>\n",
       "      <th>...</th>\n",
       "      <td>...</td>\n",
       "      <td>...</td>\n",
       "      <td>...</td>\n",
       "      <td>...</td>\n",
       "      <td>...</td>\n",
       "      <td>...</td>\n",
       "      <td>...</td>\n",
       "      <td>...</td>\n",
       "      <td>...</td>\n",
       "      <td>...</td>\n",
       "      <td>...</td>\n",
       "      <td>...</td>\n",
       "      <td>...</td>\n",
       "      <td>...</td>\n",
       "      <td>...</td>\n",
       "      <td>...</td>\n",
       "      <td>...</td>\n",
       "      <td>...</td>\n",
       "      <td>...</td>\n",
       "      <td>...</td>\n",
       "    </tr>\n",
       "    <tr>\n",
       "      <th>722727</th>\n",
       "      <td>421495</td>\n",
       "      <td>The Apple</td>\n",
       "      <td>Animation</td>\n",
       "      <td>en</td>\n",
       "      <td>Animated short. \"Two apples devouring each oth...</td>\n",
       "      <td>0.600</td>\n",
       "      <td>NaN</td>\n",
       "      <td>1968-09-20</td>\n",
       "      <td>0.0</td>\n",
       "      <td>0.000000e+00</td>\n",
       "      <td>2.0</td>\n",
       "      <td>Released</td>\n",
       "      <td>NaN</td>\n",
       "      <td>0.000</td>\n",
       "      <td>0.0</td>\n",
       "      <td>NaN</td>\n",
       "      <td>NaN</td>\n",
       "      <td>NaN</td>\n",
       "      <td>NaN</td>\n",
       "      <td>NaN</td>\n",
       "    </tr>\n",
       "    <tr>\n",
       "      <th>722728</th>\n",
       "      <td>503879</td>\n",
       "      <td>Thottil Kuzhandhai</td>\n",
       "      <td>Romance-Crime-Action</td>\n",
       "      <td>ta</td>\n",
       "      <td>The film began with the abandonment of a baby ...</td>\n",
       "      <td>0.600</td>\n",
       "      <td>Meena Movies</td>\n",
       "      <td>1995-02-24</td>\n",
       "      <td>0.0</td>\n",
       "      <td>0.000000e+00</td>\n",
       "      <td>150.0</td>\n",
       "      <td>Released</td>\n",
       "      <td>NaN</td>\n",
       "      <td>0.000</td>\n",
       "      <td>0.0</td>\n",
       "      <td>Ramki-Ranjitha-Anandaraj-Janagaraj-Vinu Chakra...</td>\n",
       "      <td>NaN</td>\n",
       "      <td>NaN</td>\n",
       "      <td>NaN</td>\n",
       "      <td>NaN</td>\n",
       "    </tr>\n",
       "    <tr>\n",
       "      <th>722729</th>\n",
       "      <td>725894</td>\n",
       "      <td>Conexión con el desvío</td>\n",
       "      <td>NaN</td>\n",
       "      <td>en</td>\n",
       "      <td>Discards and junctions of an anonymous family ...</td>\n",
       "      <td>0.600</td>\n",
       "      <td>NaN</td>\n",
       "      <td>2020-07-18</td>\n",
       "      <td>0.0</td>\n",
       "      <td>0.000000e+00</td>\n",
       "      <td>6.0</td>\n",
       "      <td>Released</td>\n",
       "      <td>NaN</td>\n",
       "      <td>0.000</td>\n",
       "      <td>0.0</td>\n",
       "      <td>NaN</td>\n",
       "      <td>NaN</td>\n",
       "      <td>/lhEA9MSPLWskhxUkOXY1EQmOAcC.jpg</td>\n",
       "      <td>NaN</td>\n",
       "      <td>NaN</td>\n",
       "    </tr>\n",
       "    <tr>\n",
       "      <th>722730</th>\n",
       "      <td>149484</td>\n",
       "      <td>Muka obraznosti</td>\n",
       "      <td>NaN</td>\n",
       "      <td>cs</td>\n",
       "      <td>NaN</td>\n",
       "      <td>0.600</td>\n",
       "      <td>NaN</td>\n",
       "      <td>1990-03-01</td>\n",
       "      <td>0.0</td>\n",
       "      <td>0.000000e+00</td>\n",
       "      <td>0.0</td>\n",
       "      <td>Released</td>\n",
       "      <td>NaN</td>\n",
       "      <td>2.000</td>\n",
       "      <td>1.0</td>\n",
       "      <td>NaN</td>\n",
       "      <td>NaN</td>\n",
       "      <td>/3q2t6XlRMi5Q6A1w7sL0LnZazyu.jpg</td>\n",
       "      <td>NaN</td>\n",
       "      <td>NaN</td>\n",
       "    </tr>\n",
       "    <tr>\n",
       "      <th>722731</th>\n",
       "      <td>968161</td>\n",
       "      <td>Gising Sining</td>\n",
       "      <td>NaN</td>\n",
       "      <td>tl</td>\n",
       "      <td>In a country where fascism foolishness of peop...</td>\n",
       "      <td>0.600</td>\n",
       "      <td>Studio RD</td>\n",
       "      <td>NaN</td>\n",
       "      <td>0.0</td>\n",
       "      <td>0.000000e+00</td>\n",
       "      <td>19.0</td>\n",
       "      <td>Released</td>\n",
       "      <td>NaN</td>\n",
       "      <td>0.000</td>\n",
       "      <td>0.0</td>\n",
       "      <td>Ruka Azuma-Mel Perez</td>\n",
       "      <td>NaN</td>\n",
       "      <td>/jv34KgS7D997H5kbVYxKLJRScg.jpg</td>\n",
       "      <td>NaN</td>\n",
       "      <td>NaN</td>\n",
       "    </tr>\n",
       "  </tbody>\n",
       "</table>\n",
       "<p>722732 rows × 20 columns</p>\n",
       "</div>"
      ],
      "text/plain": [
       "            id                              title  \\\n",
       "0       758323                The Pope's Exorcist   \n",
       "1       667538   Transformers: Rise of the Beasts   \n",
       "2       640146  Ant-Man and the Wasp: Quantumania   \n",
       "3       677179                          Creed III   \n",
       "4       502356        The Super Mario Bros. Movie   \n",
       "...        ...                                ...   \n",
       "722727  421495                          The Apple   \n",
       "722728  503879                 Thottil Kuzhandhai   \n",
       "722729  725894             Conexión con el desvío   \n",
       "722730  149484                    Muka obraznosti   \n",
       "722731  968161                      Gising Sining   \n",
       "\n",
       "                                           genres original_language  \\\n",
       "0                         Horror-Mystery-Thriller                en   \n",
       "1                Action-Adventure-Science Fiction                en   \n",
       "2                Action-Adventure-Science Fiction                en   \n",
       "3                                    Drama-Action                en   \n",
       "4       Animation-Family-Adventure-Fantasy-Comedy                en   \n",
       "...                                           ...               ...   \n",
       "722727                                  Animation                en   \n",
       "722728                       Romance-Crime-Action                ta   \n",
       "722729                                        NaN                en   \n",
       "722730                                        NaN                cs   \n",
       "722731                                        NaN                tl   \n",
       "\n",
       "                                                 overview  popularity  \\\n",
       "0       Father Gabriele Amorth Chief Exorcist of the V...    5953.227   \n",
       "1       When a new threat capable of destroying the en...    5409.104   \n",
       "2       Super-Hero partners Scott Lang and Hope van Dy...    4425.387   \n",
       "3       After dominating the boxing world Adonis Creed...    3994.342   \n",
       "4       While working underground to fix a water main ...    3859.926   \n",
       "...                                                   ...         ...   \n",
       "722727  Animated short. \"Two apples devouring each oth...       0.600   \n",
       "722728  The film began with the abandonment of a baby ...       0.600   \n",
       "722729  Discards and junctions of an anonymous family ...       0.600   \n",
       "722730                                                NaN       0.600   \n",
       "722731  In a country where fascism foolishness of peop...       0.600   \n",
       "\n",
       "                                     production_companies release_date  \\\n",
       "0       Screen Gems-2.0 Entertainment-Jesus & Mary-Wor...   2023-04-05   \n",
       "1       Skydance-Paramount-di Bonaventura Pictures-Bay...   2023-06-06   \n",
       "2                  Marvel Studios-Kevin Feige Productions   2023-02-15   \n",
       "3       Metro-Goldwyn-Mayer-Proximity Media-Balboa Pro...   2023-03-01   \n",
       "4                Universal Pictures-Illumination-Nintendo   2023-04-05   \n",
       "...                                                   ...          ...   \n",
       "722727                                                NaN   1968-09-20   \n",
       "722728                                       Meena Movies   1995-02-24   \n",
       "722729                                                NaN   2020-07-18   \n",
       "722730                                                NaN   1990-03-01   \n",
       "722731                                          Studio RD          NaN   \n",
       "\n",
       "             budget       revenue  runtime    status  \\\n",
       "0        18000000.0  6.567582e+07    103.0  Released   \n",
       "1       200000000.0  4.070455e+08    127.0  Released   \n",
       "2       200000000.0  4.757662e+08    125.0  Released   \n",
       "3        75000000.0  2.690000e+08    116.0  Released   \n",
       "4       100000000.0  1.278767e+09     92.0  Released   \n",
       "...             ...           ...      ...       ...   \n",
       "722727          0.0  0.000000e+00      2.0  Released   \n",
       "722728          0.0  0.000000e+00    150.0  Released   \n",
       "722729          0.0  0.000000e+00      6.0  Released   \n",
       "722730          0.0  0.000000e+00      0.0  Released   \n",
       "722731          0.0  0.000000e+00     19.0  Released   \n",
       "\n",
       "                                                  tagline  vote_average  \\\n",
       "0       Inspired by the actual files of Father Gabriel...         7.433   \n",
       "1                                          Unite or fall.         7.340   \n",
       "2                 Witness the beginning of a new dynasty.         6.507   \n",
       "3                           You can't run from your past.         7.262   \n",
       "4                                                     NaN         7.764   \n",
       "...                                                   ...           ...   \n",
       "722727                                                NaN         0.000   \n",
       "722728                                                NaN         0.000   \n",
       "722729                                                NaN         0.000   \n",
       "722730                                                NaN         2.000   \n",
       "722731                                                NaN         0.000   \n",
       "\n",
       "        vote_count                                            credits  \\\n",
       "0            545.0  Russell Crowe-Daniel Zovatto-Alex Essoe-Franco...   \n",
       "1           1007.0  Anthony Ramos-Dominique Fishback-Luna Lauren V...   \n",
       "2           2811.0  Paul Rudd-Evangeline Lilly-Jonathan Majors-Kat...   \n",
       "3           1129.0  Michael B. Jordan-Tessa Thompson-Jonathan Majo...   \n",
       "4           4042.0  Chris Pratt-Charlie Day-Anya Taylor-Joy-Jack B...   \n",
       "...            ...                                                ...   \n",
       "722727         0.0                                                NaN   \n",
       "722728         0.0  Ramki-Ranjitha-Anandaraj-Janagaraj-Vinu Chakra...   \n",
       "722729         0.0                                                NaN   \n",
       "722730         1.0                                                NaN   \n",
       "722731         0.0                               Ruka Azuma-Mel Perez   \n",
       "\n",
       "                                                 keywords  \\\n",
       "0       spain-rome italy-vatican-pope-pig-possession-c...   \n",
       "1       peru-alien-end of the world-based on cartoon-b...   \n",
       "2       hero-ant-sequel-superhero-based on comic-famil...   \n",
       "3       philadelphia pennsylvania-husband wife relatio...   \n",
       "4       video game-gorilla-plumber-magic mushroom-anth...   \n",
       "...                                                   ...   \n",
       "722727                                                NaN   \n",
       "722728                                                NaN   \n",
       "722729                                                NaN   \n",
       "722730                                                NaN   \n",
       "722731                                                NaN   \n",
       "\n",
       "                             poster_path                     backdrop_path  \\\n",
       "0       /9JBEPLTPSm0d1mbEcLxULjJq9Eh.jpg  /hiHGRbyTcbZoLsYYkO4QiCLYe34.jpg   \n",
       "1       /gPbM0MK8CP8A174rmUwGsADNYKD.jpg  /woJbg7ZqidhpvqFGGMRhWQNoxwa.jpg   \n",
       "2       /qnqGbB22YJ7dSs4o6M7exTpNxPz.jpg  /m8JTwHFwX7I7JY5fPe4SjqejWag.jpg   \n",
       "3       /cvsXj3I9Q2iyyIo95AecSd1tad7.jpg  /5i6SjyDbDWqyun8klUuCxrlFbyw.jpg   \n",
       "4       /qNBAXBIQlnOThrVvA6mA2B5ggV6.jpg  /2klQ1z1fcHGgQPevbEQdkCnzyuS.jpg   \n",
       "...                                  ...                               ...   \n",
       "722727                               NaN                               NaN   \n",
       "722728                               NaN                               NaN   \n",
       "722729  /lhEA9MSPLWskhxUkOXY1EQmOAcC.jpg                               NaN   \n",
       "722730  /3q2t6XlRMi5Q6A1w7sL0LnZazyu.jpg                               NaN   \n",
       "722731   /jv34KgS7D997H5kbVYxKLJRScg.jpg                               NaN   \n",
       "\n",
       "                                          recommendations  \n",
       "0       713704-296271-502356-1076605-1084225-1008005-9...  \n",
       "1       496450-569094-298618-385687-877100-598331-4628...  \n",
       "2       823999-676841-868759-734048-267805-965839-1033...  \n",
       "3       965839-267805-943822-842942-1035806-823999-107...  \n",
       "4       713704-385687-640146-60898-758323-1008005-4935...  \n",
       "...                                                   ...  \n",
       "722727                                                NaN  \n",
       "722728                                                NaN  \n",
       "722729                                                NaN  \n",
       "722730                                                NaN  \n",
       "722731                                                NaN  \n",
       "\n",
       "[722732 rows x 20 columns]"
      ]
     },
     "execution_count": 33,
     "metadata": {},
     "output_type": "execute_result"
    }
   ],
   "source": [
    "movies"
   ]
  },
  {
   "cell_type": "code",
   "execution_count": 34,
   "id": "e326ec51-6bdb-41b2-bdda-660a42666b67",
   "metadata": {},
   "outputs": [
    {
     "data": {
      "text/plain": [
       "array(['en', 'la', 'es', 'no', 'it', 'cn', 'ja', 'ko', 'fi', 'ru', 'uk',\n",
       "       'nl', 'zh', 'th', 'id', 'is', 'da', 'fr', 'pl', 'te', 'mk', 'pt',\n",
       "       'de', 'ro', 'tl', 'sv', 'ar', 'el', 'hi', 'gl', 'tr', 'vi', 'ml',\n",
       "       'ta', 'sr', 'lv', 'bs', 'bn', 'fa', 'ga', 'nb', 'pa', 'cs', 'eu',\n",
       "       'kn', 'ca', 'xx', 'sh', 'km', 'gu', 'he', 'hu', 'hr', 'dz', 'ms',\n",
       "       'kk', 'mr', 'af', 'sl', 'et', 'bo', 'sk', 'ur', 'hy', 'sq', 'ka',\n",
       "       'su', 'ku', 'eo', 'sw', 'mi', 'mn', 'se', 'ne', 'cy', 'as', 'lt',\n",
       "       'ps', 'qu', 'wo', 'bm', 'rw', 'uz', 'bg', 'am', 'lo', 'iu', 'si',\n",
       "       'zu', 'os', 'xh', 'ak', 'yi', 'mt', 'yo', 'my', 'ay', 'ff', 'st',\n",
       "       'jv', 'ha', 'gn', 'lb', 'az', 'gd', 'or', 'ln', 'mo', 'ky', 'be',\n",
       "       'sa', 'tg', 'ug', 'an', 'ie', 'rm', 'co', 'sm', 'fo', 'kl', 'tw',\n",
       "       'nn', 'ti', 'ab', 'fy', 'tk', 'so', 'lg', 'ht', 'ba', 'mg', 'ks',\n",
       "       'ss', 'dv', 'tt', 'ia', 'cr', 'ny', 'ig', 'ce', 'bi', 'ii', 'sn',\n",
       "       'nv', 'oj', 'fj', 'cv', 'tn', 'sg', 'to', 'ch', 'sc', 'li', 'sd',\n",
       "       'ty', 'mh', 'za', 'ki', 'pi', 'gv', 'kw', 'oc', 'av', 'om', 'kg',\n",
       "       'ts', 'rn'], dtype=object)"
      ]
     },
     "execution_count": 34,
     "metadata": {},
     "output_type": "execute_result"
    }
   ],
   "source": [
    "movies[\"original_language\"].unique()"
   ]
  },
  {
   "cell_type": "code",
   "execution_count": 35,
   "id": "f6747cbc-ca62-4867-9172-c36f86f0ce5a",
   "metadata": {},
   "outputs": [
    {
     "data": {
      "text/plain": [
       "id                           0\n",
       "title                        6\n",
       "genres                  210771\n",
       "original_language            0\n",
       "overview                118550\n",
       "popularity                   0\n",
       "production_companies    385539\n",
       "release_date             52330\n",
       "budget                       0\n",
       "revenue                      0\n",
       "runtime                  34438\n",
       "status                       0\n",
       "tagline                 614593\n",
       "vote_average                 0\n",
       "vote_count                   0\n",
       "credits                 225047\n",
       "keywords                512415\n",
       "poster_path             185134\n",
       "backdrop_path           500132\n",
       "recommendations         687965\n",
       "dtype: int64"
      ]
     },
     "execution_count": 35,
     "metadata": {},
     "output_type": "execute_result"
    }
   ],
   "source": [
    "missing_values = movies.isna().sum()\n",
    "missing_values"
   ]
  },
  {
   "cell_type": "code",
   "execution_count": 36,
   "id": "849297c3-5a0e-4f54-b7da-5649ee0b0138",
   "metadata": {},
   "outputs": [],
   "source": [
    "movies = movies.iloc[:, :-2] #drop last 2 cols"
   ]
  },
  {
   "cell_type": "code",
   "execution_count": 38,
   "id": "c81331e9-fd5e-47e6-a948-1e2c3d9c1d82",
   "metadata": {},
   "outputs": [
    {
     "data": {
      "text/plain": [
       "array(['Released', 'Planned', 'In Production', 'Post Production',\n",
       "       'Canceled', 'Rumored'], dtype=object)"
      ]
     },
     "execution_count": 38,
     "metadata": {},
     "output_type": "execute_result"
    }
   ],
   "source": [
    "movies[\"status\"].unique() "
   ]
  },
  {
   "cell_type": "code",
   "execution_count": 39,
   "id": "a2ce09d9-0be7-4942-bfd2-f41f81d20ef0",
   "metadata": {
    "scrolled": true
   },
   "outputs": [],
   "source": [
    "movies = movies.loc[movies[\"release_date\"].isna() == False] #only movies with release date"
   ]
  },
  {
   "cell_type": "code",
   "execution_count": 40,
   "id": "9027f949-d991-498b-9dc8-c2124e7b50fc",
   "metadata": {},
   "outputs": [],
   "source": [
    "movies = movies.loc[movies[\"status\"] == \"Released\"] # only movies that have released"
   ]
  },
  {
   "cell_type": "code",
   "execution_count": 41,
   "id": "6f9de9fe-330b-4abb-87e3-b54fec8eda7f",
   "metadata": {},
   "outputs": [
    {
     "data": {
      "text/plain": [
       "array(['Released'], dtype=object)"
      ]
     },
     "execution_count": 41,
     "metadata": {},
     "output_type": "execute_result"
    }
   ],
   "source": [
    "movies[\"status\"].unique() "
   ]
  },
  {
   "cell_type": "code",
   "execution_count": 42,
   "id": "c8e6b18e-5796-4dae-b3a9-0b78afa43157",
   "metadata": {},
   "outputs": [],
   "source": [
    "movies = movies.drop(columns = ['production_companies','budget', 'revenue', 'runtime','status'])"
   ]
  },
  {
   "cell_type": "code",
   "execution_count": 43,
   "id": "7b2e2800-c453-464e-8ef9-4095e95e66ab",
   "metadata": {},
   "outputs": [
    {
     "data": {
      "text/plain": [
       "id                        0\n",
       "title                     2\n",
       "genres               173165\n",
       "original_language         0\n",
       "overview             105353\n",
       "popularity                0\n",
       "release_date              0\n",
       "tagline              568246\n",
       "vote_average              0\n",
       "vote_count                0\n",
       "credits              187732\n",
       "keywords             463870\n",
       "poster_path          155175\n",
       "dtype: int64"
      ]
     },
     "execution_count": 43,
     "metadata": {},
     "output_type": "execute_result"
    }
   ],
   "source": [
    "movies.isna().sum()"
   ]
  },
  {
   "cell_type": "code",
   "execution_count": 44,
   "id": "b3970d5e-2e0f-43f5-9430-cd75dd7b73f6",
   "metadata": {},
   "outputs": [],
   "source": [
    "movies = movies.loc[(movies[\"genres\"].isna()==False) & (movies[\"overview\"].isna() == False) & (movies[\"credits\"].isna() == False)]"
   ]
  },
  {
   "cell_type": "code",
   "execution_count": 45,
   "id": "5188c97c-0080-427a-81d3-10d154189b42",
   "metadata": {},
   "outputs": [
    {
     "name": "stdout",
     "output_type": "stream",
     "text": [
      "193291 4675 15087 5748\n"
     ]
    }
   ],
   "source": [
    "eng = len(movies.loc[movies[\"original_language\"] == \"en\"])\n",
    "hin = len(movies.loc[movies[\"original_language\"] == \"hi\"])\n",
    "jap = len(movies.loc[movies[\"original_language\"] == \"ja\"])\n",
    "kor = len(movies.loc[movies[\"original_language\"] == \"ko\"])\n",
    "print(eng, hin, jap, kor)"
   ]
  },
  {
   "cell_type": "code",
   "execution_count": 46,
   "id": "4c36c195-ec1d-4408-8ad0-0520fc3a9a25",
   "metadata": {},
   "outputs": [],
   "source": [
    "movies = movies.reset_index(drop = True)"
   ]
  },
  {
   "cell_type": "code",
   "execution_count": 47,
   "id": "9eecac0e-561f-47cb-8947-8303f05682cb",
   "metadata": {},
   "outputs": [
    {
     "data": {
      "image/png": "[encoded data removed]",
      "text/plain": [
       "<Figure size 1000x600 with 1 Axes>"
      ]
     },
     "metadata": {},
     "output_type": "display_data"
    }
   ],
   "source": [
    "#checking whether the data is sorted based on popularity\n",
    "plt.figure(figsize=(10, 6))\n",
    "plt.plot(movies.index[1800:2000], movies['popularity'][1800:2000])\n",
    "plt.xlabel('Movie Index')\n",
    "plt.ylabel('Popularity')\n",
    "plt.title('Popularity of Movies (Line Graph)')\n",
    "plt.xticks(rotation=45)\n",
    "plt.tight_layout()\n",
    "\n",
    "plt.show()"
   ]
  },
  {
   "cell_type": "code",
   "execution_count": 48,
   "id": "32bc788f-f07f-4bf7-bf81-f81a1a848314",
   "metadata": {},
   "outputs": [],
   "source": [
    "movies = movies[:15000]"
   ]
  },
  {
   "cell_type": "code",
   "execution_count": 49,
   "id": "b1cd19c9-961b-4d13-b2fe-db91d6c4a689",
   "metadata": {},
   "outputs": [],
   "source": [
    "movies = movies.drop(columns = [\"popularity\", \"release_date\", \"vote_average\", \"vote_count\"])"
   ]
  },
  {
   "cell_type": "code",
   "execution_count": 51,
   "id": "ef679e5b-fb3f-4ab3-b15e-d16b14485777",
   "metadata": {},
   "outputs": [],
   "source": [
    "def convert(text):\n",
    "    if isinstance(text, str):\n",
    "        return text.split(\"-\")\n",
    "    return []"
   ]
  },
  {
   "cell_type": "code",
   "execution_count": 52,
   "id": "bd2da612-6805-450c-a51b-2f3d3740d40b",
   "metadata": {},
   "outputs": [],
   "source": [
    "movies[\"genres\"] = movies[\"genres\"].apply(convert)\n",
    "movies[\"credits\"] = movies[\"credits\"].apply(convert)\n",
    "movies[\"keywords\"] = movies[\"keywords\"].apply(convert)"
   ]
  },
  {
   "cell_type": "code",
   "execution_count": 53,
   "id": "8ebd5b09-2e16-469f-9ab6-f87293a06054",
   "metadata": {},
   "outputs": [
    {
     "data": {
      "text/plain": [
       "array(['en', 'la', 'es', 'no', 'it', 'cn', 'ja', 'ko', 'fi', 'ru', 'uk',\n",
       "       'nl', 'zh', 'th', 'id', 'is', 'da', 'fr', 'pl', 'te', 'mk', 'pt',\n",
       "       'de', 'ro', 'tl', 'sv', 'ar', 'el', 'hi', 'gl', 'tr', 'vi', 'ml',\n",
       "       'ta', 'sr', 'bs', 'bn', 'ga', 'fa', 'lv', 'nb', 'pa', 'cs', 'eu',\n",
       "       'kn', 'ca', 'sh', 'km', 'gu', 'he', 'hu', 'dz', 'ms', 'kk', 'xx',\n",
       "       'af', 'bo'], dtype=object)"
      ]
     },
     "execution_count": 53,
     "metadata": {},
     "output_type": "execute_result"
    }
   ],
   "source": [
    "movies.original_language.unique()"
   ]
  },
  {
   "cell_type": "code",
   "execution_count": 54,
   "id": "d3b4f23c-661a-4443-bd72-4c99b0e9ba28",
   "metadata": {},
   "outputs": [],
   "source": [
    "def convert2(text):\n",
    "    if isinstance(text, str):\n",
    "        return text.split()\n",
    "    return []"
   ]
  },
  {
   "cell_type": "code",
   "execution_count": 55,
   "id": "691ecda3-ed84-4fc8-9912-b6bc0c14ae8b",
   "metadata": {},
   "outputs": [],
   "source": [
    "movies[\"overview\"] = movies[\"overview\"].apply(convert2)\n",
    "movies[\"tagline\"] = movies[\"tagline\"].apply(convert2)\n",
    "movies[\"original_language\"] = movies[\"original_language\"].apply(convert2)"
   ]
  },
  {
   "cell_type": "code",
   "execution_count": 56,
   "id": "6995553b-6777-4094-ae38-954acc24272c",
   "metadata": {},
   "outputs": [],
   "source": [
    "movies[\"credits\"] = movies[\"credits\"].apply(lambda x: x[:7])"
   ]
  },
  {
   "cell_type": "code",
   "execution_count": 57,
   "id": "1c7f7c0e-92b8-4ba1-9622-a3e72a33dbdc",
   "metadata": {},
   "outputs": [],
   "source": [
    "def collapse(L):\n",
    "    L1 = []\n",
    "    for i in L:\n",
    "        L1.append(i.replace(\" \",\"\"))\n",
    "    return L1"
   ]
  },
  {
   "cell_type": "code",
   "execution_count": 58,
   "id": "d8e20494-62cc-4285-b325-f8f08d0a0bd3",
   "metadata": {},
   "outputs": [],
   "source": [
    "movies['credits'] = movies['credits'].apply(collapse)"
   ]
  },
  {
   "cell_type": "code",
   "execution_count": 59,
   "id": "ac662798-4985-490f-93ae-3e82176d491d",
   "metadata": {},
   "outputs": [],
   "source": [
    "movies[\"tags\"] = movies['genres'] + movies['overview'] + movies['tagline'] + movies['credits'] + movies['keywords'] + movies[\"original_language\"]"
   ]
  },
  {
   "cell_type": "code",
   "execution_count": 61,
   "id": "71c4ade2-0d86-4d8e-a08e-cda4a69d6f46",
   "metadata": {},
   "outputs": [],
   "source": [
    "movies = movies[[\"id\", \"title\", \"poster_path\", \"tags\"]]"
   ]
  },
  {
   "cell_type": "code",
   "execution_count": 62,
   "id": "54befd3c-5d54-4eec-9636-0d0d0e4bb608",
   "metadata": {},
   "outputs": [
    {
     "name": "stderr",
     "output_type": "stream",
     "text": [
      "C:\\Users\\yadav\\AppData\\Local\\Temp\\ipykernel_8828\\2946981980.py:1: SettingWithCopyWarning: \n",
      "A value is trying to be set on a copy of a slice from a DataFrame.\n",
      "Try using .loc[row_indexer,col_indexer] = value instead\n",
      "\n",
      "See the caveats in the documentation: https://pandas.pydata.org/pandas-docs/stable/user_guide/indexing.html#returning-a-view-versus-a-copy\n",
      "  movies[\"tags\"] = movies[\"tags\"].apply(lambda x : \" \".join(x))\n"
     ]
    }
   ],
   "source": [
    "movies[\"tags\"] = movies[\"tags\"].apply(lambda x : \" \".join(x))"
   ]
  },
  {
   "cell_type": "code",
   "execution_count": 64,
   "id": "4ba5be48-b37b-4d11-b7ab-16a7dbf661a4",
   "metadata": {},
   "outputs": [],
   "source": [
    "csv_filename = 'movieData/final_movies_data.csv'\n",
    "movies.to_csv(csv_filename, index = False)"
   ]
  },
  {
   "cell_type": "code",
   "execution_count": 63,
   "id": "0c594aa3-183c-4b4c-bf49-fa06bb565947",
   "metadata": {},
   "outputs": [
    {
     "data": {
      "text/html": [
       "<div>\n",
       "<style scoped>\n",
       "    .dataframe tbody tr th:only-of-type {\n",
       "        vertical-align: middle;\n",
       "    }\n",
       "\n",
       "    .dataframe tbody tr th {\n",
       "        vertical-align: top;\n",
       "    }\n",
       "\n",
       "    .dataframe thead th {\n",
       "        text-align: right;\n",
       "    }\n",
       "</style>\n",
       "<table border=\"1\" class=\"dataframe\">\n",
       "  <thead>\n",
       "    <tr style=\"text-align: right;\">\n",
       "      <th></th>\n",
       "      <th>id</th>\n",
       "      <th>title</th>\n",
       "      <th>poster_path</th>\n",
       "      <th>tags</th>\n",
       "    </tr>\n",
       "  </thead>\n",
       "  <tbody>\n",
       "    <tr>\n",
       "      <th>0</th>\n",
       "      <td>758323</td>\n",
       "      <td>The Pope's Exorcist</td>\n",
       "      <td>/9JBEPLTPSm0d1mbEcLxULjJq9Eh.jpg</td>\n",
       "      <td>Horror Mystery Thriller Father Gabriele Amorth...</td>\n",
       "    </tr>\n",
       "    <tr>\n",
       "      <th>1</th>\n",
       "      <td>667538</td>\n",
       "      <td>Transformers: Rise of the Beasts</td>\n",
       "      <td>/gPbM0MK8CP8A174rmUwGsADNYKD.jpg</td>\n",
       "      <td>Action Adventure Science Fiction When a new th...</td>\n",
       "    </tr>\n",
       "    <tr>\n",
       "      <th>2</th>\n",
       "      <td>640146</td>\n",
       "      <td>Ant-Man and the Wasp: Quantumania</td>\n",
       "      <td>/qnqGbB22YJ7dSs4o6M7exTpNxPz.jpg</td>\n",
       "      <td>Action Adventure Science Fiction Super-Hero pa...</td>\n",
       "    </tr>\n",
       "    <tr>\n",
       "      <th>3</th>\n",
       "      <td>677179</td>\n",
       "      <td>Creed III</td>\n",
       "      <td>/cvsXj3I9Q2iyyIo95AecSd1tad7.jpg</td>\n",
       "      <td>Drama Action After dominating the boxing world...</td>\n",
       "    </tr>\n",
       "    <tr>\n",
       "      <th>4</th>\n",
       "      <td>502356</td>\n",
       "      <td>The Super Mario Bros. Movie</td>\n",
       "      <td>/qNBAXBIQlnOThrVvA6mA2B5ggV6.jpg</td>\n",
       "      <td>Animation Family Adventure Fantasy Comedy Whil...</td>\n",
       "    </tr>\n",
       "    <tr>\n",
       "      <th>...</th>\n",
       "      <td>...</td>\n",
       "      <td>...</td>\n",
       "      <td>...</td>\n",
       "      <td>...</td>\n",
       "    </tr>\n",
       "    <tr>\n",
       "      <th>14995</th>\n",
       "      <td>605542</td>\n",
       "      <td>Lost in the Night</td>\n",
       "      <td>/UzFNnLwCDMa5E9oKLh2fSwKRsF.jpg</td>\n",
       "      <td>Drama Emiliano lives in a small mining town in...</td>\n",
       "    </tr>\n",
       "    <tr>\n",
       "      <th>14996</th>\n",
       "      <td>429691</td>\n",
       "      <td>Mind Blown</td>\n",
       "      <td>/59xSj93nnF9UG6kNoI62hlq11Gw.jpg</td>\n",
       "      <td>Science Fiction TV Movie In Los Angeles the Ea...</td>\n",
       "    </tr>\n",
       "    <tr>\n",
       "      <th>14997</th>\n",
       "      <td>653601</td>\n",
       "      <td>Horse Girl</td>\n",
       "      <td>/hNQ7st9dFXUXENMcsAuVxcrIBfA.jpg</td>\n",
       "      <td>Drama A socially awkward woman with a fondness...</td>\n",
       "    </tr>\n",
       "    <tr>\n",
       "      <th>14998</th>\n",
       "      <td>443009</td>\n",
       "      <td>Don't Worry, He Won't Get Far on Foot</td>\n",
       "      <td>/rKsiN37qMt8jad5GikZzSeevyI9.jpg</td>\n",
       "      <td>Comedy Drama On the rocky path to sobriety aft...</td>\n",
       "    </tr>\n",
       "    <tr>\n",
       "      <th>14999</th>\n",
       "      <td>19494</td>\n",
       "      <td>Nine to Five</td>\n",
       "      <td>/3nm6kWMFzxGtJb4UEuDB0lDWpcD.jpg</td>\n",
       "      <td>Comedy Frank Hart is a pig. He takes advantage...</td>\n",
       "    </tr>\n",
       "  </tbody>\n",
       "</table>\n",
       "<p>15000 rows × 4 columns</p>\n",
       "</div>"
      ],
      "text/plain": [
       "           id                                  title  \\\n",
       "0      758323                    The Pope's Exorcist   \n",
       "1      667538       Transformers: Rise of the Beasts   \n",
       "2      640146      Ant-Man and the Wasp: Quantumania   \n",
       "3      677179                              Creed III   \n",
       "4      502356            The Super Mario Bros. Movie   \n",
       "...       ...                                    ...   \n",
       "14995  605542                      Lost in the Night   \n",
       "14996  429691                             Mind Blown   \n",
       "14997  653601                             Horse Girl   \n",
       "14998  443009  Don't Worry, He Won't Get Far on Foot   \n",
       "14999   19494                           Nine to Five   \n",
       "\n",
       "                            poster_path  \\\n",
       "0      /9JBEPLTPSm0d1mbEcLxULjJq9Eh.jpg   \n",
       "1      /gPbM0MK8CP8A174rmUwGsADNYKD.jpg   \n",
       "2      /qnqGbB22YJ7dSs4o6M7exTpNxPz.jpg   \n",
       "3      /cvsXj3I9Q2iyyIo95AecSd1tad7.jpg   \n",
       "4      /qNBAXBIQlnOThrVvA6mA2B5ggV6.jpg   \n",
       "...                                 ...   \n",
       "14995   /UzFNnLwCDMa5E9oKLh2fSwKRsF.jpg   \n",
       "14996  /59xSj93nnF9UG6kNoI62hlq11Gw.jpg   \n",
       "14997  /hNQ7st9dFXUXENMcsAuVxcrIBfA.jpg   \n",
       "14998  /rKsiN37qMt8jad5GikZzSeevyI9.jpg   \n",
       "14999  /3nm6kWMFzxGtJb4UEuDB0lDWpcD.jpg   \n",
       "\n",
       "                                                    tags  \n",
       "0      Horror Mystery Thriller Father Gabriele Amorth...  \n",
       "1      Action Adventure Science Fiction When a new th...  \n",
       "2      Action Adventure Science Fiction Super-Hero pa...  \n",
       "3      Drama Action After dominating the boxing world...  \n",
       "4      Animation Family Adventure Fantasy Comedy Whil...  \n",
       "...                                                  ...  \n",
       "14995  Drama Emiliano lives in a small mining town in...  \n",
       "14996  Science Fiction TV Movie In Los Angeles the Ea...  \n",
       "14997  Drama A socially awkward woman with a fondness...  \n",
       "14998  Comedy Drama On the rocky path to sobriety aft...  \n",
       "14999  Comedy Frank Hart is a pig. He takes advantage...  \n",
       "\n",
       "[15000 rows x 4 columns]"
      ]
     },
     "execution_count": 63,
     "metadata": {},
     "output_type": "execute_result"
    }
   ],
   "source": [
    "movies"
   ]
  },
  {
   "cell_type": "code",
   "execution_count": null,
   "id": "7e78aad1-7171-4ef0-89db-bf3255205df2",
   "metadata": {},
   "outputs": [],
   "source": []
  }
 ],
 "metadata": {
  "kernelspec": {
   "display_name": "Python 3 (ipykernel)",
   "language": "python",
   "name": "python3"
  },
  "language_info": {
   "codemirror_mode": {
    "name": "ipython",
    "version": 3
   },
   "file_extension": ".py",
   "mimetype": "text/x-python",
   "name": "python",
   "nbconvert_exporter": "python",
   "pygments_lexer": "ipython3",
   "version": "3.11.4"
  }
 },
 "nbformat": 4,
 "nbformat_minor": 5
}
