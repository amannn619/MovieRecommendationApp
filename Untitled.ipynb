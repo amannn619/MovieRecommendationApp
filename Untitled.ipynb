{
 "cells": [
  {
   "cell_type": "code",
   "execution_count": 1,
   "id": "da62b743-3546-4881-a199-e979b90926ea",
   "metadata": {},
   "outputs": [],
   "source": [
    "import pandas as pd\n",
    "import requests\n",
    "movies = pd.read_csv(\"movieData/final_movies_data.csv\")"
   ]
  },
  {
   "cell_type": "code",
   "execution_count": 2,
   "id": "1ed2fa19-418a-43d5-9c3f-9d0db3403bcc",
   "metadata": {},
   "outputs": [
    {
     "data": {
      "text/html": [
       "<div>\n",
       "<style scoped>\n",
       "    .dataframe tbody tr th:only-of-type {\n",
       "        vertical-align: middle;\n",
       "    }\n",
       "\n",
       "    .dataframe tbody tr th {\n",
       "        vertical-align: top;\n",
       "    }\n",
       "\n",
       "    .dataframe thead th {\n",
       "        text-align: right;\n",
       "    }\n",
       "</style>\n",
       "<table border=\"1\" class=\"dataframe\">\n",
       "  <thead>\n",
       "    <tr style=\"text-align: right;\">\n",
       "      <th></th>\n",
       "      <th>id</th>\n",
       "      <th>title</th>\n",
       "      <th>poster_path</th>\n",
       "      <th>tags</th>\n",
       "    </tr>\n",
       "  </thead>\n",
       "  <tbody>\n",
       "    <tr>\n",
       "      <th>0</th>\n",
       "      <td>758323</td>\n",
       "      <td>The Pope's Exorcist</td>\n",
       "      <td>/9JBEPLTPSm0d1mbEcLxULjJq9Eh.jpg</td>\n",
       "      <td>Horror Mystery Thriller Father Gabriele Amorth...</td>\n",
       "    </tr>\n",
       "    <tr>\n",
       "      <th>1</th>\n",
       "      <td>667538</td>\n",
       "      <td>Transformers: Rise of the Beasts</td>\n",
       "      <td>/gPbM0MK8CP8A174rmUwGsADNYKD.jpg</td>\n",
       "      <td>Action Adventure Science Fiction When a new th...</td>\n",
       "    </tr>\n",
       "    <tr>\n",
       "      <th>2</th>\n",
       "      <td>640146</td>\n",
       "      <td>Ant-Man and the Wasp: Quantumania</td>\n",
       "      <td>/qnqGbB22YJ7dSs4o6M7exTpNxPz.jpg</td>\n",
       "      <td>Action Adventure Science Fiction Super-Hero pa...</td>\n",
       "    </tr>\n",
       "    <tr>\n",
       "      <th>3</th>\n",
       "      <td>677179</td>\n",
       "      <td>Creed III</td>\n",
       "      <td>/cvsXj3I9Q2iyyIo95AecSd1tad7.jpg</td>\n",
       "      <td>Drama Action After dominating the boxing world...</td>\n",
       "    </tr>\n",
       "    <tr>\n",
       "      <th>4</th>\n",
       "      <td>502356</td>\n",
       "      <td>The Super Mario Bros. Movie</td>\n",
       "      <td>/qNBAXBIQlnOThrVvA6mA2B5ggV6.jpg</td>\n",
       "      <td>Animation Family Adventure Fantasy Comedy Whil...</td>\n",
       "    </tr>\n",
       "    <tr>\n",
       "      <th>...</th>\n",
       "      <td>...</td>\n",
       "      <td>...</td>\n",
       "      <td>...</td>\n",
       "      <td>...</td>\n",
       "    </tr>\n",
       "    <tr>\n",
       "      <th>14995</th>\n",
       "      <td>605542</td>\n",
       "      <td>Lost in the Night</td>\n",
       "      <td>/UzFNnLwCDMa5E9oKLh2fSwKRsF.jpg</td>\n",
       "      <td>Drama Emiliano lives in a small mining town in...</td>\n",
       "    </tr>\n",
       "    <tr>\n",
       "      <th>14996</th>\n",
       "      <td>429691</td>\n",
       "      <td>Mind Blown</td>\n",
       "      <td>/59xSj93nnF9UG6kNoI62hlq11Gw.jpg</td>\n",
       "      <td>Science Fiction TV Movie In Los Angeles the Ea...</td>\n",
       "    </tr>\n",
       "    <tr>\n",
       "      <th>14997</th>\n",
       "      <td>653601</td>\n",
       "      <td>Horse Girl</td>\n",
       "      <td>/hNQ7st9dFXUXENMcsAuVxcrIBfA.jpg</td>\n",
       "      <td>Drama A socially awkward woman with a fondness...</td>\n",
       "    </tr>\n",
       "    <tr>\n",
       "      <th>14998</th>\n",
       "      <td>443009</td>\n",
       "      <td>Don't Worry, He Won't Get Far on Foot</td>\n",
       "      <td>/rKsiN37qMt8jad5GikZzSeevyI9.jpg</td>\n",
       "      <td>Comedy Drama On the rocky path to sobriety aft...</td>\n",
       "    </tr>\n",
       "    <tr>\n",
       "      <th>14999</th>\n",
       "      <td>19494</td>\n",
       "      <td>Nine to Five</td>\n",
       "      <td>/3nm6kWMFzxGtJb4UEuDB0lDWpcD.jpg</td>\n",
       "      <td>Comedy Frank Hart is a pig. He takes advantage...</td>\n",
       "    </tr>\n",
       "  </tbody>\n",
       "</table>\n",
       "<p>15000 rows × 4 columns</p>\n",
       "</div>"
      ],
      "text/plain": [
       "           id                                  title  \\\n",
       "0      758323                    The Pope's Exorcist   \n",
       "1      667538       Transformers: Rise of the Beasts   \n",
       "2      640146      Ant-Man and the Wasp: Quantumania   \n",
       "3      677179                              Creed III   \n",
       "4      502356            The Super Mario Bros. Movie   \n",
       "...       ...                                    ...   \n",
       "14995  605542                      Lost in the Night   \n",
       "14996  429691                             Mind Blown   \n",
       "14997  653601                             Horse Girl   \n",
       "14998  443009  Don't Worry, He Won't Get Far on Foot   \n",
       "14999   19494                           Nine to Five   \n",
       "\n",
       "                            poster_path  \\\n",
       "0      /9JBEPLTPSm0d1mbEcLxULjJq9Eh.jpg   \n",
       "1      /gPbM0MK8CP8A174rmUwGsADNYKD.jpg   \n",
       "2      /qnqGbB22YJ7dSs4o6M7exTpNxPz.jpg   \n",
       "3      /cvsXj3I9Q2iyyIo95AecSd1tad7.jpg   \n",
       "4      /qNBAXBIQlnOThrVvA6mA2B5ggV6.jpg   \n",
       "...                                 ...   \n",
       "14995   /UzFNnLwCDMa5E9oKLh2fSwKRsF.jpg   \n",
       "14996  /59xSj93nnF9UG6kNoI62hlq11Gw.jpg   \n",
       "14997  /hNQ7st9dFXUXENMcsAuVxcrIBfA.jpg   \n",
       "14998  /rKsiN37qMt8jad5GikZzSeevyI9.jpg   \n",
       "14999  /3nm6kWMFzxGtJb4UEuDB0lDWpcD.jpg   \n",
       "\n",
       "                                                    tags  \n",
       "0      Horror Mystery Thriller Father Gabriele Amorth...  \n",
       "1      Action Adventure Science Fiction When a new th...  \n",
       "2      Action Adventure Science Fiction Super-Hero pa...  \n",
       "3      Drama Action After dominating the boxing world...  \n",
       "4      Animation Family Adventure Fantasy Comedy Whil...  \n",
       "...                                                  ...  \n",
       "14995  Drama Emiliano lives in a small mining town in...  \n",
       "14996  Science Fiction TV Movie In Los Angeles the Ea...  \n",
       "14997  Drama A socially awkward woman with a fondness...  \n",
       "14998  Comedy Drama On the rocky path to sobriety aft...  \n",
       "14999  Comedy Frank Hart is a pig. He takes advantage...  \n",
       "\n",
       "[15000 rows x 4 columns]"
      ]
     },
     "execution_count": 2,
     "metadata": {},
     "output_type": "execute_result"
    }
   ],
   "source": [
    "movies"
   ]
  },
  {
   "cell_type": "code",
   "execution_count": 31,
   "id": "2966518a-a247-43c9-bb08-3dd9de3dce81",
   "metadata": {},
   "outputs": [],
   "source": [
    "def get_movie_details(movie):\n",
    "    apikey = \"67563d5737e9fd5ced1250495eaae39b\"\n",
    "    movie_id = movies.loc[movies[\"title\"].str.lower() == movie.lower()][:1].id.squeeze()\n",
    "    print(movie_id)\n",
    "    url = f\"https://api.themoviedb.org/3/movie/{movie_id}?api_key={apikey}&language=en-US\"\n",
    "    movie_details = requests.get(url)\n",
    "    data = movie_details.json()\n",
    "    return data"
   ]
  },
  {
   "cell_type": "code",
   "execution_count": 32,
   "id": "bd1e841b-293f-40e7-bab6-f336ab07ca47",
   "metadata": {},
   "outputs": [
    {
     "name": "stdout",
     "output_type": "stream",
     "text": [
      "557\n"
     ]
    }
   ],
   "source": [
    "data = get_movie_details(\"spider-man\")"
   ]
  },
  {
   "cell_type": "code",
   "execution_count": 13,
   "id": "39ab2039-693d-42b3-b803-6a83ec862ed7",
   "metadata": {},
   "outputs": [
    {
     "data": {
      "text/plain": [
       "{'adult': False,\n",
       " 'backdrop_path': None,\n",
       " 'belongs_to_collection': None,\n",
       " 'budget': 10000,\n",
       " 'genres': [],\n",
       " 'homepage': '',\n",
       " 'id': 538,\n",
       " 'imdb_id': 'tt0485662',\n",
       " 'original_language': 'en',\n",
       " 'original_title': 'Janine F.',\n",
       " 'overview': 'The humorous portrait of a female artist. The film follows the career of 24-year-old Janine F. who in 2002 caused a commotion from the rooftop of a Berlin building.',\n",
       " 'popularity': 1.13,\n",
       " 'poster_path': None,\n",
       " 'production_companies': [],\n",
       " 'production_countries': [{'iso_3166_1': 'DE', 'name': 'Germany'}],\n",
       " 'release_date': '2004-02-11',\n",
       " 'revenue': 0,\n",
       " 'runtime': 52,\n",
       " 'spoken_languages': [{'english_name': 'German',\n",
       "   'iso_639_1': 'de',\n",
       "   'name': 'Deutsch'}],\n",
       " 'status': 'Released',\n",
       " 'tagline': '',\n",
       " 'title': 'Janine F.',\n",
       " 'video': False,\n",
       " 'vote_average': 5.0,\n",
       " 'vote_count': 1}"
      ]
     },
     "execution_count": 13,
     "metadata": {},
     "output_type": "execute_result"
    }
   ],
   "source": [
    "data"
   ]
  },
  {
   "cell_type": "code",
   "execution_count": 16,
   "id": "4916229b-9454-485b-a680-2b2e15783a7e",
   "metadata": {},
   "outputs": [
    {
     "data": {
      "text/html": [
       "<div>\n",
       "<style scoped>\n",
       "    .dataframe tbody tr th:only-of-type {\n",
       "        vertical-align: middle;\n",
       "    }\n",
       "\n",
       "    .dataframe tbody tr th {\n",
       "        vertical-align: top;\n",
       "    }\n",
       "\n",
       "    .dataframe thead th {\n",
       "        text-align: right;\n",
       "    }\n",
       "</style>\n",
       "<table border=\"1\" class=\"dataframe\">\n",
       "  <thead>\n",
       "    <tr style=\"text-align: right;\">\n",
       "      <th></th>\n",
       "      <th>id</th>\n",
       "      <th>title</th>\n",
       "      <th>poster_path</th>\n",
       "      <th>tags</th>\n",
       "    </tr>\n",
       "  </thead>\n",
       "  <tbody>\n",
       "    <tr>\n",
       "      <th>212</th>\n",
       "      <td>24428</td>\n",
       "      <td>The Avengers</td>\n",
       "      <td>/RYMX2wcKCBAr24UyPD7xwmjaTn.jpg</td>\n",
       "      <td>Science Fiction Action Adventure When an unexp...</td>\n",
       "    </tr>\n",
       "    <tr>\n",
       "      <th>6094</th>\n",
       "      <td>9320</td>\n",
       "      <td>The Avengers</td>\n",
       "      <td>/1p5thyQ4pCy876HpdvFARqJ62N9.jpg</td>\n",
       "      <td>Thriller Science Fiction Action Adventure Brit...</td>\n",
       "    </tr>\n",
       "  </tbody>\n",
       "</table>\n",
       "</div>"
      ],
      "text/plain": [
       "         id         title                       poster_path  \\\n",
       "212   24428  The Avengers   /RYMX2wcKCBAr24UyPD7xwmjaTn.jpg   \n",
       "6094   9320  The Avengers  /1p5thyQ4pCy876HpdvFARqJ62N9.jpg   \n",
       "\n",
       "                                                   tags  \n",
       "212   Science Fiction Action Adventure When an unexp...  \n",
       "6094  Thriller Science Fiction Action Adventure Brit...  "
      ]
     },
     "execution_count": 16,
     "metadata": {},
     "output_type": "execute_result"
    }
   ],
   "source": [
    "movies[movies[\"title\"]== \"The Avengers\"]"
   ]
  },
  {
   "cell_type": "code",
   "execution_count": 1,
   "id": "20f0e8fd-6711-4a67-b491-3eb722fd79fe",
   "metadata": {},
   "outputs": [],
   "source": [
    "import os"
   ]
  },
  {
   "cell_type": "code",
   "execution_count": 2,
   "id": "c5886e8d-1fa7-4346-826b-69450a1a52b6",
   "metadata": {},
   "outputs": [],
   "source": [
    "apikey = os.environ.get(\"tmdb-api-key\")"
   ]
  },
  {
   "cell_type": "code",
   "execution_count": null,
   "id": "a874e756-8d6b-4e2c-96dc-0ecb6e9d1ce6",
   "metadata": {},
   "outputs": [],
   "source": []
  }
 ],
 "metadata": {
  "kernelspec": {
   "display_name": "Python 3 (ipykernel)",
   "language": "python",
   "name": "python3"
  },
  "language_info": {
   "codemirror_mode": {
    "name": "ipython",
    "version": 3
   },
   "file_extension": ".py",
   "mimetype": "text/x-python",
   "name": "python",
   "nbconvert_exporter": "python",
   "pygments_lexer": "ipython3",
   "version": "3.11.4"
  }
 },
 "nbformat": 4,
 "nbformat_minor": 5
}
