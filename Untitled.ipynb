{
 "cells": [
  {
   "cell_type": "code",
   "execution_count": 94,
   "id": "da62b743-3546-4881-a199-e979b90926ea",
   "metadata": {},
   "outputs": [
    {
     "name": "stderr",
     "output_type": "stream",
     "text": [
      "C:\\Python311\\Lib\\site-packages\\sklearn\\utils\\extmath.py:193: RuntimeWarning: invalid value encountered in matmul\n",
      "  ret = a @ b\n"
     ]
    }
   ],
   "source": [
    "import pandas as pd\n",
    "from sklearn.feature_extraction.text import CountVectorizer\n",
    "from sklearn.metrics.pairwise import cosine_similarity\n",
    "import requests\n",
    "\n",
    "movies = pd.read_csv(\"movieData/final_movies_data.csv\")\n",
    "cv = CountVectorizer(max_features=5000, stop_words='english')\n",
    "vector = cv.fit_transform(movies['tags']).toarray()\n",
    "similarity = cosine_similarity(vector)"
   ]
  },
  {
   "cell_type": "code",
   "execution_count": 95,
   "id": "2563a3f3-b640-4334-9548-4e781910c28b",
   "metadata": {},
   "outputs": [],
   "source": [
    "def get_movie(movie):\n",
    "    apikey = \"67563d5737e9fd5ced1250495eaae39b\"\n",
    "    url = f\"https://api.themoviedb.org/3/search/movie?api_key={apikey}&query={movie}&page=1\"\n",
    "    response = requests.get(url)\n",
    "    data = response.json()\n",
    "    res = []\n",
    "    for i in data[\"results\"]:\n",
    "        res.append(i[\"title\"].lower())\n",
    "    return res"
   ]
  },
  {
   "cell_type": "code",
   "execution_count": 129,
   "id": "2966518a-a247-43c9-bb08-3dd9de3dce81",
   "metadata": {},
   "outputs": [],
   "source": [
    "def get_index(movie):\n",
    "    try:\n",
    "        index = movies[movies['title'].str.lower() == movie.lower()].index[0]\n",
    "        return index\n",
    "    except:\n",
    "        return -1\n",
    "    "
   ]
  },
  {
   "cell_type": "code",
   "execution_count": 188,
   "id": "2dc43ce8-9705-49d9-bf65-009acd3aa8c9",
   "metadata": {},
   "outputs": [],
   "source": [
    "def recommender(movie):\n",
    "    recommendations = []\n",
    "    searched_movie = movie\n",
    "    index = get_index(movie)\n",
    "    if index == -1:\n",
    "        movie_titles = get_movie(movie)\n",
    "    while index == -1 and len(movie_titles)>0:\n",
    "        movie = movie_titles.pop(0)\n",
    "        index = get_index(movie)\n",
    "    if index == -1:\n",
    "        return \"no movie\", searched_movie\n",
    "    distances = sorted(list(enumerate(similarity[index])), reverse=True, key=lambda x: x[1])\n",
    "    for i in distances[1:11]:\n",
    "        recommendations.append(movies.iloc[i[0]].title)\n",
    "    return recommendations, movie\n",
    "\n"
   ]
  },
  {
   "cell_type": "code",
   "execution_count": 192,
   "id": "9bc4f38e-b83f-4b2f-82c5-b429b3413275",
   "metadata": {},
   "outputs": [
    {
     "name": "stdout",
     "output_type": "stream",
     "text": [
      "['ABBA: The Movie', 'Elvis', 'School of Rock', 'Rock Dog', 'Walk Hard: The Dewey Cox Story', 'Ricki and the Flash', 'Fantasia 2000', 'Bandslam', 'Jonas Brothers Family Roast', 'Tenacious D in The Pick of Destiny'] rock dog 2: rock around the park\n"
     ]
    }
   ],
   "source": [
    "recommendations, movie = recommender(\"rock\")\n",
    "print(recommendations, movie)"
   ]
  },
  {
   "cell_type": "code",
   "execution_count": null,
   "id": "d50a51ac-e237-4d7c-bc26-b29e0921904d",
   "metadata": {},
   "outputs": [],
   "source": []
  },
  {
   "cell_type": "code",
   "execution_count": 131,
   "id": "1d8fa6c1-2e9d-4f8e-b063-0e301167848d",
   "metadata": {},
   "outputs": [
    {
     "data": {
      "text/plain": [
       "355"
      ]
     },
     "execution_count": 131,
     "metadata": {},
     "output_type": "execute_result"
    }
   ],
   "source": [
    "get_index(\"The Godfather\")\n"
   ]
  },
  {
   "cell_type": "code",
   "execution_count": 111,
   "id": "a743ad95-8eba-4f9c-9b82-84fa8e94f3f8",
   "metadata": {},
   "outputs": [
    {
     "data": {
      "text/html": [
       "<div>\n",
       "<style scoped>\n",
       "    .dataframe tbody tr th:only-of-type {\n",
       "        vertical-align: middle;\n",
       "    }\n",
       "\n",
       "    .dataframe tbody tr th {\n",
       "        vertical-align: top;\n",
       "    }\n",
       "\n",
       "    .dataframe thead th {\n",
       "        text-align: right;\n",
       "    }\n",
       "</style>\n",
       "<table border=\"1\" class=\"dataframe\">\n",
       "  <thead>\n",
       "    <tr style=\"text-align: right;\">\n",
       "      <th></th>\n",
       "      <th>id</th>\n",
       "      <th>title</th>\n",
       "      <th>tags</th>\n",
       "    </tr>\n",
       "  </thead>\n",
       "  <tbody>\n",
       "    <tr>\n",
       "      <th>351</th>\n",
       "      <td>2062</td>\n",
       "      <td>Ratatouille</td>\n",
       "      <td>Animation Comedy Family Fantasy Remy a residen...</td>\n",
       "    </tr>\n",
       "    <tr>\n",
       "      <th>352</th>\n",
       "      <td>429473</td>\n",
       "      <td>Lou</td>\n",
       "      <td>Action Thriller Drama A young girl is kidnappe...</td>\n",
       "    </tr>\n",
       "    <tr>\n",
       "      <th>353</th>\n",
       "      <td>767304</td>\n",
       "      <td>Redemption Day</td>\n",
       "      <td>Action When his wife is kidnapped by terrorist...</td>\n",
       "    </tr>\n",
       "    <tr>\n",
       "      <th>354</th>\n",
       "      <td>335795</td>\n",
       "      <td>Monster High: The Movie</td>\n",
       "      <td>Family Fantasy Comedy Adventure Music TV Movie...</td>\n",
       "    </tr>\n",
       "    <tr>\n",
       "      <th>355</th>\n",
       "      <td>238</td>\n",
       "      <td>The Godfather</td>\n",
       "      <td>Drama Crime Spanning the years 1945 to 1955 a ...</td>\n",
       "    </tr>\n",
       "    <tr>\n",
       "      <th>356</th>\n",
       "      <td>698779</td>\n",
       "      <td>Room Salon College Girls 3</td>\n",
       "      <td>Romance Action Hee-jung a college student uses...</td>\n",
       "    </tr>\n",
       "    <tr>\n",
       "      <th>357</th>\n",
       "      <td>648579</td>\n",
       "      <td>The Unbearable Weight of Massive Talent</td>\n",
       "      <td>Action Comedy Crime Creatively unfulfilled and...</td>\n",
       "    </tr>\n",
       "    <tr>\n",
       "      <th>358</th>\n",
       "      <td>168259</td>\n",
       "      <td>Furious 7</td>\n",
       "      <td>Action Thriller Crime Deckard Shaw seeks reven...</td>\n",
       "    </tr>\n",
       "    <tr>\n",
       "      <th>359</th>\n",
       "      <td>848932</td>\n",
       "      <td>Why Women Cheat</td>\n",
       "      <td>Romance The male lead is the king of a small i...</td>\n",
       "    </tr>\n",
       "  </tbody>\n",
       "</table>\n",
       "</div>"
      ],
      "text/plain": [
       "         id                                    title  \\\n",
       "351    2062                              Ratatouille   \n",
       "352  429473                                      Lou   \n",
       "353  767304                           Redemption Day   \n",
       "354  335795                  Monster High: The Movie   \n",
       "355     238                            The Godfather   \n",
       "356  698779               Room Salon College Girls 3   \n",
       "357  648579  The Unbearable Weight of Massive Talent   \n",
       "358  168259                                Furious 7   \n",
       "359  848932                          Why Women Cheat   \n",
       "\n",
       "                                                  tags  \n",
       "351  Animation Comedy Family Fantasy Remy a residen...  \n",
       "352  Action Thriller Drama A young girl is kidnappe...  \n",
       "353  Action When his wife is kidnapped by terrorist...  \n",
       "354  Family Fantasy Comedy Adventure Music TV Movie...  \n",
       "355  Drama Crime Spanning the years 1945 to 1955 a ...  \n",
       "356  Romance Action Hee-jung a college student uses...  \n",
       "357  Action Comedy Crime Creatively unfulfilled and...  \n",
       "358  Action Thriller Crime Deckard Shaw seeks reven...  \n",
       "359  Romance The male lead is the king of a small i...  "
      ]
     },
     "execution_count": 111,
     "metadata": {},
     "output_type": "execute_result"
    }
   ],
   "source": [
    "movies.iloc[351:360]"
   ]
  },
  {
   "cell_type": "code",
   "execution_count": null,
   "id": "1fd3750d-da45-4216-9faa-5a31706c796f",
   "metadata": {},
   "outputs": [],
   "source": []
  }
 ],
 "metadata": {
  "kernelspec": {
   "display_name": "Python 3 (ipykernel)",
   "language": "python",
   "name": "python3"
  },
  "language_info": {
   "codemirror_mode": {
    "name": "ipython",
    "version": 3
   },
   "file_extension": ".py",
   "mimetype": "text/x-python",
   "name": "python",
   "nbconvert_exporter": "python",
   "pygments_lexer": "ipython3",
   "version": "3.11.4"
  }
 },
 "nbformat": 4,
 "nbformat_minor": 5
}
