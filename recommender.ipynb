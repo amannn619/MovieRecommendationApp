{
 "cells": [
  {
   "cell_type": "code",
   "execution_count": 2,
   "id": "fb67337f-833c-489e-b6a5-ff6d9e3fea4f",
   "metadata": {},
   "outputs": [],
   "source": [
    "import pandas as pd\n",
    "from sklearn.feature_extraction.text import CountVectorizer\n",
    "from sklearn.metrics.pairwise import cosine_similarity"
   ]
  },
  {
   "cell_type": "code",
   "execution_count": 3,
   "id": "e12bd775-17bd-461a-8036-6f06df032009",
   "metadata": {},
   "outputs": [],
   "source": [
    "movies = pd.read_csv(\"movieData/final_movies_data.csv\")"
   ]
  },
  {
   "cell_type": "code",
   "execution_count": 4,
   "id": "431ffc38-b254-487b-aa9f-29f1abc6f1b0",
   "metadata": {},
   "outputs": [
    {
     "data": {
      "text/html": [
       "<div>\n",
       "<style scoped>\n",
       "    .dataframe tbody tr th:only-of-type {\n",
       "        vertical-align: middle;\n",
       "    }\n",
       "\n",
       "    .dataframe tbody tr th {\n",
       "        vertical-align: top;\n",
       "    }\n",
       "\n",
       "    .dataframe thead th {\n",
       "        text-align: right;\n",
       "    }\n",
       "</style>\n",
       "<table border=\"1\" class=\"dataframe\">\n",
       "  <thead>\n",
       "    <tr style=\"text-align: right;\">\n",
       "      <th></th>\n",
       "      <th>id</th>\n",
       "      <th>title</th>\n",
       "      <th>tags</th>\n",
       "    </tr>\n",
       "  </thead>\n",
       "  <tbody>\n",
       "    <tr>\n",
       "      <th>0</th>\n",
       "      <td>758323</td>\n",
       "      <td>The Pope's Exorcist</td>\n",
       "      <td>Horror Mystery Thriller Father Gabriele Amorth...</td>\n",
       "    </tr>\n",
       "    <tr>\n",
       "      <th>1</th>\n",
       "      <td>667538</td>\n",
       "      <td>Transformers: Rise of the Beasts</td>\n",
       "      <td>Action Adventure Science Fiction When a new th...</td>\n",
       "    </tr>\n",
       "    <tr>\n",
       "      <th>2</th>\n",
       "      <td>640146</td>\n",
       "      <td>Ant-Man and the Wasp: Quantumania</td>\n",
       "      <td>Action Adventure Science Fiction Super-Hero pa...</td>\n",
       "    </tr>\n",
       "    <tr>\n",
       "      <th>3</th>\n",
       "      <td>677179</td>\n",
       "      <td>Creed III</td>\n",
       "      <td>Drama Action After dominating the boxing world...</td>\n",
       "    </tr>\n",
       "    <tr>\n",
       "      <th>4</th>\n",
       "      <td>502356</td>\n",
       "      <td>The Super Mario Bros. Movie</td>\n",
       "      <td>Animation Family Adventure Fantasy Comedy Whil...</td>\n",
       "    </tr>\n",
       "    <tr>\n",
       "      <th>...</th>\n",
       "      <td>...</td>\n",
       "      <td>...</td>\n",
       "      <td>...</td>\n",
       "    </tr>\n",
       "    <tr>\n",
       "      <th>14995</th>\n",
       "      <td>605542</td>\n",
       "      <td>Lost in the Night</td>\n",
       "      <td>Drama Emiliano lives in a small mining town in...</td>\n",
       "    </tr>\n",
       "    <tr>\n",
       "      <th>14996</th>\n",
       "      <td>429691</td>\n",
       "      <td>Mind Blown</td>\n",
       "      <td>Science Fiction TV Movie In Los Angeles the Ea...</td>\n",
       "    </tr>\n",
       "    <tr>\n",
       "      <th>14997</th>\n",
       "      <td>653601</td>\n",
       "      <td>Horse Girl</td>\n",
       "      <td>Drama A socially awkward woman with a fondness...</td>\n",
       "    </tr>\n",
       "    <tr>\n",
       "      <th>14998</th>\n",
       "      <td>443009</td>\n",
       "      <td>Don't Worry, He Won't Get Far on Foot</td>\n",
       "      <td>Comedy Drama On the rocky path to sobriety aft...</td>\n",
       "    </tr>\n",
       "    <tr>\n",
       "      <th>14999</th>\n",
       "      <td>19494</td>\n",
       "      <td>Nine to Five</td>\n",
       "      <td>Comedy Frank Hart is a pig. He takes advantage...</td>\n",
       "    </tr>\n",
       "  </tbody>\n",
       "</table>\n",
       "<p>15000 rows × 3 columns</p>\n",
       "</div>"
      ],
      "text/plain": [
       "           id                                  title  \\\n",
       "0      758323                    The Pope's Exorcist   \n",
       "1      667538       Transformers: Rise of the Beasts   \n",
       "2      640146      Ant-Man and the Wasp: Quantumania   \n",
       "3      677179                              Creed III   \n",
       "4      502356            The Super Mario Bros. Movie   \n",
       "...       ...                                    ...   \n",
       "14995  605542                      Lost in the Night   \n",
       "14996  429691                             Mind Blown   \n",
       "14997  653601                             Horse Girl   \n",
       "14998  443009  Don't Worry, He Won't Get Far on Foot   \n",
       "14999   19494                           Nine to Five   \n",
       "\n",
       "                                                    tags  \n",
       "0      Horror Mystery Thriller Father Gabriele Amorth...  \n",
       "1      Action Adventure Science Fiction When a new th...  \n",
       "2      Action Adventure Science Fiction Super-Hero pa...  \n",
       "3      Drama Action After dominating the boxing world...  \n",
       "4      Animation Family Adventure Fantasy Comedy Whil...  \n",
       "...                                                  ...  \n",
       "14995  Drama Emiliano lives in a small mining town in...  \n",
       "14996  Science Fiction TV Movie In Los Angeles the Ea...  \n",
       "14997  Drama A socially awkward woman with a fondness...  \n",
       "14998  Comedy Drama On the rocky path to sobriety aft...  \n",
       "14999  Comedy Frank Hart is a pig. He takes advantage...  \n",
       "\n",
       "[15000 rows x 3 columns]"
      ]
     },
     "execution_count": 4,
     "metadata": {},
     "output_type": "execute_result"
    }
   ],
   "source": [
    "movies"
   ]
  },
  {
   "cell_type": "code",
   "execution_count": 5,
   "id": "2d1b76fd-959e-4214-bcea-519defcf4b6f",
   "metadata": {},
   "outputs": [],
   "source": [
    "cv = CountVectorizer(max_features=5000,stop_words='english')"
   ]
  },
  {
   "cell_type": "code",
   "execution_count": 6,
   "id": "14163975-40dd-41b6-937c-05d6206cd1d7",
   "metadata": {},
   "outputs": [],
   "source": [
    "vector = cv.fit_transform(movies['tags']).toarray()"
   ]
  },
  {
   "cell_type": "code",
   "execution_count": 7,
   "id": "fe5c3bc7-89ea-4059-bfaf-2c67b13daa73",
   "metadata": {},
   "outputs": [
    {
     "data": {
      "text/plain": [
       "(15000, 5000)"
      ]
     },
     "execution_count": 7,
     "metadata": {},
     "output_type": "execute_result"
    }
   ],
   "source": [
    "vector.shape"
   ]
  },
  {
   "cell_type": "code",
   "execution_count": 8,
   "id": "87c65aa9-fb04-44d3-b998-4c8ed82f8741",
   "metadata": {},
   "outputs": [
    {
     "name": "stderr",
     "output_type": "stream",
     "text": [
      "C:\\Python311\\Lib\\site-packages\\sklearn\\utils\\extmath.py:193: RuntimeWarning: invalid value encountered in matmul\n",
      "  ret = a @ b\n"
     ]
    }
   ],
   "source": [
    "similarity = cosine_similarity(vector)"
   ]
  },
  {
   "cell_type": "code",
   "execution_count": 9,
   "id": "70316489-a9be-4b11-ab17-d4490faef46d",
   "metadata": {},
   "outputs": [
    {
     "data": {
      "text/plain": [
       "array([[1.        , 0.0174342 , 0.01517942, ..., 0.11097419, 0.01866633,\n",
       "        0.04600437],\n",
       "       [0.0174342 , 1.        , 0.22229847, ..., 0.0541729 , 0.13668171,\n",
       "        0.08421519],\n",
       "       [0.01517942, 0.22229847, 1.        , ..., 0.02358333, 0.09917044,\n",
       "        0.04888237],\n",
       "       ...,\n",
       "       [0.11097419, 0.0541729 , 0.02358333, ..., 1.        , 0.11600296,\n",
       "        0.03573708],\n",
       "       [0.01866633, 0.13668171, 0.09917044, ..., 0.11600296, 1.        ,\n",
       "        0.06011131],\n",
       "       [0.04600437, 0.08421519, 0.04888237, ..., 0.03573708, 0.06011131,\n",
       "        1.        ]])"
      ]
     },
     "execution_count": 9,
     "metadata": {},
     "output_type": "execute_result"
    }
   ],
   "source": [
    "similarity"
   ]
  },
  {
   "cell_type": "code",
   "execution_count": 23,
   "id": "5e1f23ba-03f2-457b-be69-b70f2135f12d",
   "metadata": {},
   "outputs": [],
   "source": [
    "def recommend(movie):\n",
    "    try:\n",
    "        index = movies[movies['title'].str.lower() == movie.lower()].index[0]\n",
    "        distances = sorted(list(enumerate(similarity[index])),reverse=True,key = lambda x: x[1])\n",
    "        print(distances[:11])\n",
    "        for i in distances[1:11]:\n",
    "            print(movies.iloc[i[0]].title)\n",
    "    except:\n",
    "        return {\"error\":\"Not Found!\"}"
   ]
  },
  {
   "cell_type": "code",
   "execution_count": 24,
   "id": "77a5a462-8bed-44ec-bad8-8cca2ffbd6af",
   "metadata": {},
   "outputs": [
    {
     "name": "stdout",
     "output_type": "stream",
     "text": [
      "[(494, 0.9999999999999998), (2066, 0.4170571322777137), (3241, 0.4162475610565923), (10105, 0.4157833774857576), (4738, 0.41390248571385235), (9405, 0.401677156202747), (6443, 0.3837664504007079), (2322, 0.3780756226875626), (8241, 0.3738321088841869), (3465, 0.37247112529522386), (10319, 0.3681431946467378)]\n",
      "Escape Plan\n",
      "Escape from Alcatraz\n",
      "Vendetta\n",
      "Cool Hand Luke\n",
      "In Hell\n",
      "Brawl in Cell Block 99\n",
      "Cell 211\n",
      "Papillon\n",
      "Lock Up\n",
      "A Man Escaped\n"
     ]
    }
   ],
   "source": [
    "recommend(\"the shawsHank redemption\")"
   ]
  },
  {
   "cell_type": "code",
   "execution_count": null,
   "id": "abbb6295-a80e-48f6-9147-b79336083a3c",
   "metadata": {},
   "outputs": [],
   "source": []
  }
 ],
 "metadata": {
  "kernelspec": {
   "display_name": "Python 3 (ipykernel)",
   "language": "python",
   "name": "python3"
  },
  "language_info": {
   "codemirror_mode": {
    "name": "ipython",
    "version": 3
   },
   "file_extension": ".py",
   "mimetype": "text/x-python",
   "name": "python",
   "nbconvert_exporter": "python",
   "pygments_lexer": "ipython3",
   "version": "3.11.4"
  }
 },
 "nbformat": 4,
 "nbformat_minor": 5
}
